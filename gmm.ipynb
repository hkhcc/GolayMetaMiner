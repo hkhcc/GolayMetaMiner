{
 "cells": [
  {
   "cell_type": "markdown",
   "metadata": {},
   "source": [
    "# Online interactive demonstration of GolayMetaMiner"
   ]
  },
  {
   "cell_type": "markdown",
   "metadata": {},
   "source": [
    "In this notebook, GolayMetaMiner is executed interactively to explain how different options affect the analysis. \n",
    "\n",
    "## Help message\n",
    "* First, we execute the script without any arguments.\n",
    "* This results in a usage message followed by an error as no input was specified."
   ]
  },
  {
   "cell_type": "code",
   "execution_count": 1,
   "metadata": {},
   "outputs": [
    {
     "name": "stderr",
     "output_type": "stream",
     "text": [
      "[    0.0000s]\n",
      "C:\\Users\\hcc604\\Documents\\Python Scripts\\GolayMetaMiner\\gmm-cache ... OK!\n",
      "C:\\Users\\hcc604\\Documents\\Python Scripts\\GolayMetaMiner\\gmm-runs ... OK!\n",
      "[    0.0000s]\n",
      "usage: gmm.py [-h] --primary_target PRIMARY_TARGET\n",
      "              [--secondary_targets SECONDARY_TARGETS [SECONDARY_TARGETS ...] |\n",
      "              --secondary_target_list SECONDARY_TARGET_LIST]\n",
      "              [--reporting_centile REPORTING_CENTILE] [--kmer_size KMER_SIZE]\n",
      "              [--num_threads NUM_THREADS] [--min_length MIN_LENGTH]\n",
      "              [--non_targets NON_TARGETS [NON_TARGETS ...] |\n",
      "              --non_target_ncbi_table NON_TARGET_NCBI_TABLE]\n",
      "              [--exclusion_string EXCLUSION_STRING]\n",
      "gmm.py: error: the following arguments are required: --primary_target\n"
     ]
    }
   ],
   "source": [
    "!python gmm.py"
   ]
  },
  {
   "cell_type": "markdown",
   "metadata": {},
   "source": [
    "## A simple run using accession numbers\n",
    "* The GolayMetaMiner script requires the following compulsory inputs:\n",
    "\n",
    "  1. ``--primary_target``\n",
    "  A single accession number, e.g. ``--primary_target MN975262.1``\n",
    "  \n",
    "  2. ``--secondary_targets`` or ``--secondary_target_list``\n",
    "  Multiple accession numbers, e.g. ``--secondary_targets MN938384.1, MT126808.1``\n",
    "  OR\n",
    "  A text file list of accession numbers, e.g. `--secondary_target_list SARS-CoV-2_genomes.txt`\n",
    "  \n",
    "  3. ``--non_targets`` or ``--non_target_ncbi_table``\n",
    "  One or more accession numbers, e.g. ``--non_targets NC_014470.1``\n",
    "  OR\n",
    "  A genome table from NCBI in CSV format, e.g. ``--non_target_ncbi_table coronaviridae_complete.csv``\n",
    "  \n",
    "* Next we try to execute script using the minimal parameters, using pure accession number input as an example.\n",
    "\n",
    "  "
   ]
  },
  {
   "cell_type": "code",
   "execution_count": 2,
   "metadata": {
    "scrolled": true
   },
   "outputs": [
    {
     "name": "stdout",
     "output_type": "stream",
     "text": [
      "Figure(640x480)\n"
     ]
    },
    {
     "name": "stderr",
     "output_type": "stream",
     "text": [
      "[    0.0000s]\n",
      "C:\\Users\\hcc604\\Documents\\Python Scripts\\GolayMetaMiner\\gmm-cache ... OK!\n",
      "C:\\Users\\hcc604\\Documents\\Python Scripts\\GolayMetaMiner\\gmm-runs ... OK!\n",
      "[    0.0010s]\n",
      "====================\n",
      "[    0.0010s]\n",
      "ANALYSIS SETTINGS:\n",
      "Reporting centile cutoff: 99.99\n",
      "k-mer size: 12\n",
      "Number of CPU threads to use: 4\n",
      "Minimum target region length to report: 50\n",
      "====================\n",
      "## Loading target genome...\n",
      "[    0.0010s]\n",
      "\t MN975262.1 Severe acute respiratory syndrome coronavirus 2 isolate 2019-nCoV_HKU-SZ-005b_2020, complete genome with 29891 characters loaded.\n",
      "## Loading non-target genomes...\n",
      "[    0.0020s]\n",
      "## Non-target k-mer pool generation finished.\n",
      "[    3.1934s]\n",
      "\t <class 'multiprocessing.managers.DictProxy'> 58249 56\n",
      "\tConverting shared dict() object to set()...\n",
      "\t <class 'set'> 58249 2097376\n",
      "## Eliminating non-target k-mers...\n",
      "[    3.2164s]\n",
      "## Selecting conserved k-mers...\n",
      "[    3.2293s]\n",
      "\t MN938384.1 Severe acute respiratory syndrome coronavirus 2 isolate 2019-nCoV_HKU-SZ-002a_2020, complete genome with 29838 characters loaded.\n",
      "\tPool occupancy: 59353 / 16777216 (0.35%)\n",
      "\t 2621544\n",
      "[    3.3241s]\n",
      "\t MT126808.1 Severe acute respiratory syndrome coronavirus 2 isolate SARS-CoV-2/SP02/human/2020/BRA, complete genome with 29876 characters loaded.\n",
      "\tPool occupancy: 59429 / 16777216 (0.35%)\n",
      "\t 2621544\n",
      "# Uniqueness (min): 0.14411971127960277\n",
      "# Uniqueness (50th centile): 0.9338747732742708\n",
      "# Uniqueness cutoff score (i.e. 99.99th centile: 1.4006463852537432\n",
      "# Uniqueness (max): 1.4379342166076685\n",
      "# Conservedness (min): 0.3677997132657088\n",
      "# Conservedness (50th centile): 1.0000000000019464\n",
      "# Conservedness (max): 1.0777877701950296\n",
      "[    3.4378s]\n",
      "## Reporting ROIs...\n",
      "[    3.4378s]\n",
      "gmm.py:368: UserWarning: Tight layout not applied. The left and right margins cannot be made large enough to accommodate all axes decorations. \n",
      "  plt.tight_layout()\n",
      "## Finished plotting. Rendering plot...\n",
      "[    3.5156s]\n",
      "\t NC_014470.1 Bat coronavirus BM48-31/BGR/2008, complete genome with 29276 characters loaded.\n",
      "\tPool occupancy: 58249 / 16777216 (0.35%)\n",
      "\t 56\n"
     ]
    }
   ],
   "source": [
    "!python gmm.py --primary_target MN975262.1 --secondary_targets MN938384.1, MT126808.1 --non_targets NC_014470.1"
   ]
  },
  {
   "cell_type": "code",
   "execution_count": null,
   "metadata": {},
   "outputs": [],
   "source": []
  }
 ],
 "metadata": {
  "kernelspec": {
   "display_name": "Python 3",
   "language": "python",
   "name": "python3"
  },
  "language_info": {
   "codemirror_mode": {
    "name": "ipython",
    "version": 3
   },
   "file_extension": ".py",
   "mimetype": "text/x-python",
   "name": "python",
   "nbconvert_exporter": "python",
   "pygments_lexer": "ipython3",
   "version": "3.7.4"
  }
 },
 "nbformat": 4,
 "nbformat_minor": 4
}
